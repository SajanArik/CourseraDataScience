{
  "nbformat": 4,
  "nbformat_minor": 0,
  "metadata": {
    "colab": {
      "provenance": [],
      "authorship_tag": "ABX9TyNHvIJ9u3bqF2HBeDKFb0lc",
      "include_colab_link": true
    },
    "kernelspec": {
      "name": "python3",
      "display_name": "Python 3"
    },
    "language_info": {
      "name": "python"
    }
  },
  "cells": [
    {
      "cell_type": "markdown",
      "metadata": {
        "id": "view-in-github",
        "colab_type": "text"
      },
      "source": [
        "<a href=\"https://colab.research.google.com/github/SajanArik/CourseraDataScience/blob/main/Introduction_To_NumPy.ipynb\" target=\"_parent\"><img src=\"https://colab.research.google.com/assets/colab-badge.svg\" alt=\"Open In Colab\"/></a>"
      ]
    },
    {
      "cell_type": "code",
      "execution_count": 1,
      "metadata": {
        "id": "kAFBJ4tXj_WD"
      },
      "outputs": [],
      "source": [
        "# Import Numpy\n",
        "import numpy as np"
      ]
    },
    {
      "cell_type": "code",
      "source": [
        "#Define List of Car Brands\n",
        "arr_str = [\"Mercedes\",\"BMW\", \"Audi\", \"Ferrari\",\"Tesla\"]\n",
        "\n",
        "#Define number of cylinders in car\n",
        "arr_num = [5,3,6,7,3]"
      ],
      "metadata": {
        "id": "IuAVhgG2kBwM"
      },
      "execution_count": 2,
      "outputs": []
    },
    {
      "cell_type": "code",
      "source": [
        "#Convert list arr_str to array\n",
        "np_arr_str = np.array(arr_str)\n",
        "\n",
        "#Convert list arr_num to array\n",
        "np_arr_num = np.array(arr_num)\n",
        "\n",
        "#Check Output\n",
        "print(\"Numpy Array (arr_str): \" ,np_arr_str)\n",
        "print(\"Numpy Array (arr_num): \" ,np_arr_num)"
      ],
      "metadata": {
        "colab": {
          "base_uri": "https://localhost:8080/"
        },
        "id": "SabXRYrwkdts",
        "outputId": "085396d9-2bc8-4bcb-c33e-fdc89c5f9d1b"
      },
      "execution_count": 6,
      "outputs": [
        {
          "output_type": "stream",
          "name": "stdout",
          "text": [
            "Numpy Array (arr_str):  ['Mercedes' 'BMW' 'Audi' 'Ferrari' 'Tesla']\n",
            "Numpy Array (arr_num):  [5 3 6 7 3]\n"
          ]
        }
      ]
    },
    {
      "cell_type": "code",
      "source": [
        "#Check Data Type\n",
        "print(\"Data type of arr_str: \", type(arr_str))\n",
        "print(\"Data type of arr_num: \", type(arr_num))\n",
        "#Check Data Type\n",
        "print(\"Data type of np_arr_str: \", type(np_arr_str))\n",
        "print(\"Data type of np_arr_num: \", type(np_arr_num))"
      ],
      "metadata": {
        "colab": {
          "base_uri": "https://localhost:8080/"
        },
        "id": "vQrzeUj2kf-r",
        "outputId": "c2d773f0-218d-420f-e338-8113a9f457fd"
      },
      "execution_count": 8,
      "outputs": [
        {
          "output_type": "stream",
          "name": "stdout",
          "text": [
            "Data type of arr_str:  <class 'list'>\n",
            "Data type of arr_num:  <class 'list'>\n",
            "Data type of np_arr_str:  <class 'numpy.ndarray'>\n",
            "Data type of np_arr_num:  <class 'numpy.ndarray'>\n"
          ]
        }
      ]
    },
    {
      "cell_type": "code",
      "source": [
        "#Create Matrix for multiple cyldinders\n",
        "matrix = np.array([[1,2,1],[4,5,9],[1,8,9],])\n",
        "print(matrix)"
      ],
      "metadata": {
        "colab": {
          "base_uri": "https://localhost:8080/"
        },
        "id": "lrjQsHoWmmBM",
        "outputId": "f5e5aef0-9dd8-4ece-d81a-37b7dd014c00"
      },
      "execution_count": 11,
      "outputs": [
        {
          "output_type": "stream",
          "name": "stdout",
          "text": [
            "[[1 2 1]\n",
            " [4 5 9]\n",
            " [1 8 9]]\n"
          ]
        }
      ]
    },
    {
      "cell_type": "code",
      "source": [
        "#Check Data Type\n",
        "print(\"Data type of matrix: \", type(matrix))"
      ],
      "metadata": {
        "colab": {
          "base_uri": "https://localhost:8080/"
        },
        "id": "1lybVmWLozq7",
        "outputId": "39b8a719-bc4f-42e3-c50e-def89cdb936e"
      },
      "execution_count": 12,
      "outputs": [
        {
          "output_type": "stream",
          "name": "stdout",
          "text": [
            "Data type of matrix:  <class 'numpy.ndarray'>\n"
          ]
        }
      ]
    },
    {
      "cell_type": "code",
      "source": [],
      "metadata": {
        "id": "w8mYSD_KpCs8"
      },
      "execution_count": null,
      "outputs": []
    }
  ]
}